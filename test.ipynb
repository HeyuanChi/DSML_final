{
 "cells": [
  {
   "cell_type": "code",
   "execution_count": 1,
   "metadata": {},
   "outputs": [],
   "source": [
    "import numpy as np\n",
    "\n",
    "from transformer import TimeSeriesTransformer\n",
    "from inference import inference\n",
    "from trainer import train_model\n",
    "from dataset import CustomDataset, BatchSampler"
   ]
  },
  {
   "cell_type": "code",
   "execution_count": 2,
   "metadata": {},
   "outputs": [],
   "source": [
    "input_dim = 3\n",
    "d_model = 512\n",
    "nhead = 8\n",
    "num_encoder_layers = 6\n",
    "num_decoder_layers = 6\n",
    "dim_feedforward = 2048\n",
    "dropout = 0.1\n",
    "output_dim = 3\n",
    "input_length = 200\n",
    "output_length = 1\n",
    "batch_size = 512\n",
    "num_epochs = 10000\n",
    "\n",
    "\n",
    "train_data = np.load('./data/lorenz63_on0.05_train.npy')\n",
    "dataset = CustomDataset(train_data, input_length=input_length, output_length=output_length)\n",
    "data_loader = BatchSampler(dataset, batch_size)\n",
    "\n",
    "model = TimeSeriesTransformer(input_dim, d_model, nhead, num_encoder_layers, num_decoder_layers, dim_feedforward, dropout, output_dim)"
   ]
  },
  {
   "cell_type": "code",
   "execution_count": null,
   "metadata": {},
   "outputs": [
    {
     "name": "stderr",
     "output_type": "stream",
     "text": [
      "  0%|          | 1/10001 [00:42<117:49:33, 42.42s/it]"
     ]
    },
    {
     "name": "stdout",
     "output_type": "stream",
     "text": [
      "Epoch: 0, Loss: 1.22792\n"
     ]
    }
   ],
   "source": [
    "train_model(model, data_loader, num_epochs, d_model)"
   ]
  },
  {
   "cell_type": "code",
   "execution_count": 4,
   "metadata": {},
   "outputs": [],
   "source": [
    "test = np.load('./data/lorenz63_test.npy')\n",
    "pred = inference(model, test[:200], input_length, output_length, output_steps=10)"
   ]
  },
  {
   "cell_type": "code",
   "execution_count": 8,
   "metadata": {},
   "outputs": [
    {
     "data": {
      "text/plain": [
       "array([[-0.76253146, -0.7987662 ,  0.3933011 ],\n",
       "       [-0.71273226, -0.7883805 ,  0.39342713],\n",
       "       [-0.69024056, -0.77296704,  0.38527668],\n",
       "       [-0.6743655 , -0.7578737 ,  0.37330446],\n",
       "       [-0.6605458 , -0.74434584,  0.35884288],\n",
       "       [-0.6478473 , -0.73273516,  0.34252065],\n",
       "       [-0.6361619 , -0.7232865 ,  0.32468235],\n",
       "       [-0.6257131 , -0.71615803,  0.30568582],\n",
       "       [-0.6167194 , -0.71153635,  0.28603017],\n",
       "       [-0.60933506, -0.70949954,  0.26618755]], dtype=float32)"
      ]
     },
     "execution_count": 8,
     "metadata": {},
     "output_type": "execute_result"
    }
   ],
   "source": [
    "pred[-10:]"
   ]
  },
  {
   "cell_type": "code",
   "execution_count": 9,
   "metadata": {},
   "outputs": [
    {
     "data": {
      "text/plain": [
       "array([[-0.9417386 , -0.7807473 ,  0.3417721 ],\n",
       "       [-0.936809  , -0.78589374,  0.32309175],\n",
       "       [-0.93297154, -0.79224366,  0.3050653 ],\n",
       "       [-0.9302491 , -0.7997393 ,  0.2878358 ],\n",
       "       [-0.92865616, -0.80831873,  0.27154082],\n",
       "       [-0.92819893, -0.8179162 ,  0.2563111 ],\n",
       "       [-0.92887545, -0.8284614 ,  0.24227118],\n",
       "       [-0.93067616, -0.83988005,  0.22953917],\n",
       "       [-0.9335843 , -0.852093  ,  0.21822694],\n",
       "       [-0.9375759 , -0.86501616,  0.20843858]], dtype=float32)"
      ]
     },
     "execution_count": 9,
     "metadata": {},
     "output_type": "execute_result"
    }
   ],
   "source": [
    "test[200:210]"
   ]
  }
 ],
 "metadata": {
  "kernelspec": {
   "display_name": "Python 3",
   "language": "python",
   "name": "python3"
  },
  "language_info": {
   "codemirror_mode": {
    "name": "ipython",
    "version": 3
   },
   "file_extension": ".py",
   "mimetype": "text/x-python",
   "name": "python",
   "nbconvert_exporter": "python",
   "pygments_lexer": "ipython3",
   "version": "3.11.11"
  }
 },
 "nbformat": 4,
 "nbformat_minor": 2
}
